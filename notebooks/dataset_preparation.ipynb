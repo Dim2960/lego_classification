{
 "cells": [
  {
   "cell_type": "code",
   "execution_count": 1,
   "metadata": {},
   "outputs": [],
   "source": [
    "from PIL import Image\n",
    "import rembg\n",
    "import re\n",
    "import os"
   ]
  },
  {
   "cell_type": "code",
   "execution_count": 2,
   "metadata": {},
   "outputs": [],
   "source": [
    "def img_prepa(image:str, nom_fichier:str)->None:\n",
    "\n",
    "\n",
    "    # recupération chemin de l'image pour definir le nouveau dossier\n",
    "    chemin = re.compile(r'\\.\\.\\\\img\\\\[0-9]{4}\\\\')\n",
    "    match = chemin.findall(image)\n",
    "    new_fold = match[0].replace('\\\\', '/').replace('img', 'img_prepa')\n",
    "\n",
    "    # ouverture de l'image\n",
    "    img = Image.open(image)\n",
    "\n",
    "    # suppression du bakground\n",
    "    img_bg_removed = rembg.remove(img)\n",
    "\n",
    "    # Obtenir les dimensions de l'image\n",
    "    largeur, hauteur = img_bg_removed.size\n",
    "\n",
    "    # recupération des points pour zommer au max l'image sans prendre en compte le background transparent\n",
    "    bbox = img_bg_removed.getbbox()\n",
    "\n",
    "    # zoom sur l'image restant\n",
    "    image_cropped = img.crop(bbox)\n",
    "\n",
    "    # Obtenir les dimensions de l'image\n",
    "    largeur, hauteur = image_cropped.size\n",
    "\n",
    "    # Calculer les coordonnées pour le recadrage\n",
    "    if largeur < hauteur:\n",
    "        gauche = (largeur - hauteur) // 2\n",
    "        haut = 0\n",
    "        droite = gauche + hauteur\n",
    "        bas = hauteur\n",
    "    else:\n",
    "        haut = (hauteur - largeur) // 2\n",
    "        gauche = 0\n",
    "        bas = haut + largeur\n",
    "        droite = largeur\n",
    "\n",
    "    # Recadrer l'image pour obtenir un carré\n",
    "    image_carre = image_cropped.crop((gauche, haut, droite, bas))\n",
    "\n",
    "    # redimensionnement de l'Image\n",
    "    new_size = (224, 224)\n",
    "\n",
    "    img_resize = image_carre.resize(new_size)\n",
    "\n",
    "    img_resize.save(f'{new_fold}new_{nom_fichier}')\n"
   ]
  },
  {
   "cell_type": "code",
   "execution_count": 3,
   "metadata": {},
   "outputs": [],
   "source": [
    "def lire_fichiers_dossier(dossier_principal):\n",
    "    # Parcourir les sous-dossiers et fichiers\n",
    "    for racine, dossiers, fichiers in os.walk(dossier_principal):\n",
    "\n",
    "        for fichier in fichiers:\n",
    "            chemin_complet = os.path.join(racine, fichier)\n",
    "            img_prepa(chemin_complet, fichier)\n",
    "\n",
    "# Chemin du dossier principal \"img\"\n",
    "dossier_img = r\"..\\img\"\n",
    "\n",
    "# Lire les fichiers du dossier principal\n",
    "lire_fichiers_dossier(dossier_img)"
   ]
  }
 ],
 "metadata": {
  "kernelspec": {
   "display_name": "Python 3",
   "language": "python",
   "name": "python3"
  },
  "language_info": {
   "codemirror_mode": {
    "name": "ipython",
    "version": 3
   },
   "file_extension": ".py",
   "mimetype": "text/x-python",
   "name": "python",
   "nbconvert_exporter": "python",
   "pygments_lexer": "ipython3",
   "version": "3.9.19"
  }
 },
 "nbformat": 4,
 "nbformat_minor": 2
}
